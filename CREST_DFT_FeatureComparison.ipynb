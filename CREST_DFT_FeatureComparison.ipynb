{
 "cells": [
  {
   "cell_type": "markdown",
   "id": "69807210",
   "metadata": {},
   "source": [
    "# 0. Imports"
   ]
  },
  {
   "cell_type": "code",
   "execution_count": null,
   "id": "7cfd3baa-54f7-47b7-a2e6-2b58fad419e2",
   "metadata": {},
   "outputs": [],
   "source": [
    "import pandas as pd\n",
    "import numpy as np\n",
    "import matplotlib.pyplot as plt\n",
    "%matplotlib inline\n",
    "import warnings\n",
    "warnings.filterwarnings('ignore')\n",
    "\n",
    "from pathlib import Path\n",
    "\n",
    "from functions import utils\n",
    "from functions.plotting import plot_features"
   ]
  },
  {
   "cell_type": "code",
   "execution_count": null,
   "id": "7c5d9c6c",
   "metadata": {},
   "outputs": [],
   "source": [
    "# this sets plot style defaults for the whole notebook\n",
    "\n",
    "paramsscreen = {'backend': 'ps',\n",
    "            'axes.labelsize': 15,\n",
    "           'legend.fontsize': 15,\n",
    "           'xtick.labelsize': 13,\n",
    "           'ytick.labelsize': 13,\n",
    "           'axes.titlesize': 16}\n",
    "\n",
    "plt.rcParams.update(paramsscreen)"
   ]
  },
  {
   "cell_type": "markdown",
   "id": "fdc3a063",
   "metadata": {},
   "source": [
    "# 1. Define paths and ligand IDs"
   ]
  },
  {
   "cell_type": "markdown",
   "id": "1892e643",
   "metadata": {},
   "source": [
    "This sets the path where the feature files are found and a list of ligand IDs to analyze. You shouldn't need to change either of these variables.\n",
    "\n",
    "The `weighted_term` variable should be changed based on what conformationally-weighted term to view: `low_E` gives the lowest energy conformer, `Boltzmann` gives the Boltzmann-weighted average, `min` gives the minimum conformer feature value and `max` gives the maximum conformer feature value."
   ]
  },
  {
   "cell_type": "code",
   "execution_count": null,
   "id": "014e4447",
   "metadata": {},
   "outputs": [],
   "source": [
    "# set paths and read in the required feature files\n",
    "features_path = Path(\"./feature_files\")\n",
    "dft_opt_features = pd.read_csv(features_path / \"dft_opt_sp_features_summary.csv\")\n",
    "crest_features = pd.read_csv(features_path / \"crest_sp_features_summary.csv\")\n",
    "\n",
    "ligands = [\"pp000067\", \"pp000085\", \"pp000091\", \"pp000110\", \"pp000133\", \"pp000135\",\n",
    "           \"pp000298\", \"pp000321\", \"pp000390\", \"pp000425\", \"pp000458\", \"pp000670\"]\n",
    "\n",
    "weighted_term = \"low_E\""
   ]
  },
  {
   "cell_type": "markdown",
   "id": "5c1cdbe7",
   "metadata": {},
   "source": [
    "# 2. Process DFT features"
   ]
  },
  {
   "cell_type": "markdown",
   "id": "319bafa1",
   "metadata": {},
   "source": [
    "These next set of sections extract the feature values of interest and categorize them in terms of \"electronic\", \"steric\" and \"geometric\". Features based on atoms which have more than one of the same type are averaged. Average values are also taken across the whole ensemble. The absolute percent difference and absolute differences are also determined between the `dft_opt_features` and `crest_features` Sets of calculations."
   ]
  },
  {
   "cell_type": "markdown",
   "id": "c2e98388",
   "metadata": {},
   "source": [
    "## 2.1. Define electronic, geometric and steric features and average across all ligands"
   ]
  },
  {
   "cell_type": "markdown",
   "id": "fa08074c",
   "metadata": {},
   "source": [
    "### 2.1.1. Features from DFT refined structures"
   ]
  },
  {
   "cell_type": "code",
   "execution_count": null,
   "id": "e9082cce-304a-49f9-9fa4-19f351edf00e",
   "metadata": {},
   "outputs": [],
   "source": [
    "# electronic features\n",
    "homo_boltz_av = dft_opt_features[f'HOMO_{weighted_term}'].mean()\n",
    "lumo_boltz_av = dft_opt_features[f'LUMO_{weighted_term}'].mean()\n",
    "dipole_boltz_av = dft_opt_features[f'dipole(Debye)_{weighted_term}'].mean()\n",
    "dft_opt_features[f'NBO_av_charge_Cl_{weighted_term}'] = dft_opt_features[[f'NBO_charge_Cl1_{weighted_term}', f'NBO_charge_Cl2_{weighted_term}']].mean(axis=1)\n",
    "cl_nbo_boltz_av = dft_opt_features[f'NBO_av_charge_Cl_{weighted_term}'].mean()\n",
    "dft_opt_features[f'NBO_av_charge_P_{weighted_term}'] = dft_opt_features[[f'NBO_charge_P1_{weighted_term}', f'NBO_charge_P2_{weighted_term}']].mean(axis=1)\n",
    "p_nbo_boltz_av = dft_opt_features[f'NBO_av_charge_P_{weighted_term}'].mean()\n",
    "pd_nbo_boltz_av = dft_opt_features[f'NBO_charge_Pd_{weighted_term}'].mean()\n",
    "dft_opt_features[f'NMR_av_shift_P_{weighted_term}'] = dft_opt_features[[f'NMR_shift_P1_{weighted_term}', f'NMR_shift_P2_{weighted_term}']].mean(axis=1)\n",
    "p_nmr_boltz_av = dft_opt_features[f'NMR_av_shift_P_{weighted_term}'].mean()\n",
    "dft_opt_features[f'aniso_NMR_av_shift_P_{weighted_term}'] = dft_opt_features[[f'aniso_NMR_shift_P1_{weighted_term}', f'aniso_NMR_shift_P1_{weighted_term}']].mean(axis=1)\n",
    "aniso_p_nmr_boltz_av = dft_opt_features[f'aniso_NMR_av_shift_P_{weighted_term}'].mean()\n",
    "\n",
    "# geometric features\n",
    "dft_opt_features[f'distance_av_Pd_Cl(Å)_{weighted_term}'] = dft_opt_features[[f'distance_Pd_Cl1(Å)_{weighted_term}', f'distance_Pd_Cl2(Å)_{weighted_term}']].mean(axis=1)\n",
    "pd_cl_boltz_av = dft_opt_features[f'distance_av_Pd_Cl(Å)_{weighted_term}'].mean()\n",
    "dft_opt_features[f'distance_av_Pd_P(Å)_{weighted_term}'] = dft_opt_features[[f'distance_Pd_P1(Å)_{weighted_term}', f'distance_Pd_P2(Å)_{weighted_term}']].mean(axis=1)\n",
    "pd_p_boltz_av = dft_opt_features[f'distance_av_Pd_P(Å)_{weighted_term}'].mean()\n",
    "bite_angle = dft_opt_features[f'Bite_angle_Pd(°)_{weighted_term}'].mean()\n",
    "\n",
    "# steric features\n",
    "vbur_3a_boltz_av = dft_opt_features[f'%Vbur_Pd_3Å_{weighted_term}'].mean()\n",
    "vbur_4a_boltz_av = dft_opt_features[f'%Vbur_Pd_4Å_{weighted_term}'].mean()\n",
    "vbur_5a_boltz_av = dft_opt_features[f'%Vbur_Pd_5Å_{weighted_term}'].mean()\n",
    "vbur_6a_boltz_av = dft_opt_features[f'%Vbur_Pd_6Å_{weighted_term}'].mean()\n",
    "vbur_7a_boltz_av = dft_opt_features[f'%Vbur_Pd_7Å_{weighted_term}'].mean()\n",
    "volume_boltz_av = dft_opt_features[f'volume(Bohr_radius³/mol)_{weighted_term}'].mean()\n",
    "sasa_boltz_av = dft_opt_features[f'SASA_Pd_surface_area(Å²)_{weighted_term}'].mean()\n",
    "gparam_boltz_av = dft_opt_features[f'%G_param_Pd_{weighted_term}'].mean()\n",
    "solid_angle_boltz_av = dft_opt_features[f'Solid_angle_Pd(sr)_{weighted_term}'].mean()\n",
    "solid_cone_angle_boltz_av = dft_opt_features[f'Solid_cone_angle_Pd(°)_{weighted_term}'].mean()"
   ]
  },
  {
   "cell_type": "markdown",
   "id": "1b5bf02b",
   "metadata": {},
   "source": [
    "### 2.1.2. Features from CREST geometries"
   ]
  },
  {
   "cell_type": "code",
   "execution_count": null,
   "id": "9ace9524-bf53-4fde-84c8-d89d9359e98c",
   "metadata": {},
   "outputs": [],
   "source": [
    "# electronic features\n",
    "cr_homo_boltz_av = crest_features[f'HOMO_{weighted_term}'].mean()\n",
    "cr_lumo_boltz_av = crest_features[f'LUMO_{weighted_term}'].mean()\n",
    "cr_dipole_boltz_av = crest_features[f'dipole(Debye)_{weighted_term}'].mean()\n",
    "crest_features[f'NBO_av_charge_Cl_{weighted_term}'] = crest_features[[f'NBO_charge_Cl1_{weighted_term}', f'NBO_charge_Cl2_{weighted_term}']].mean(axis=1)\n",
    "cr_cl_nbo_boltz_av = crest_features[f'NBO_av_charge_Cl_{weighted_term}'].mean()\n",
    "crest_features[f'NBO_av_charge_P_{weighted_term}'] = crest_features[[f'NBO_charge_P1_{weighted_term}', f'NBO_charge_P2_{weighted_term}']].mean(axis=1)\n",
    "cr_p_nbo_boltz_av = crest_features[f'NBO_av_charge_P_{weighted_term}'].mean()\n",
    "cr_pd_nbo_boltz_av = crest_features[f'NBO_charge_Pd_{weighted_term}'].mean()\n",
    "crest_features[f'NMR_av_shift_P_{weighted_term}'] = crest_features[[f'NMR_shift_P1_{weighted_term}', f'NMR_shift_P2_{weighted_term}']].mean(axis=1)\n",
    "cr_p_nmr_boltz_av = crest_features[f'NMR_av_shift_P_{weighted_term}'].mean()\n",
    "crest_features[f'aniso_NMR_av_shift_P_{weighted_term}'] = crest_features[[f'aniso_NMR_shift_P1_{weighted_term}', f'aniso_NMR_shift_P1_{weighted_term}']].mean(axis=1)\n",
    "cr_aniso_p_nmr_boltz_av = crest_features[f'aniso_NMR_av_shift_P_{weighted_term}'].mean()\n",
    "\n",
    "# geometric features\n",
    "crest_features[f'distance_av_Pd_Cl(Å)_{weighted_term}'] = crest_features[[f'distance_Pd_Cl1(Å)_{weighted_term}', f'distance_Pd_Cl2(Å)_{weighted_term}']].mean(axis=1)\n",
    "cr_pd_cl_boltz_av = crest_features[f'distance_av_Pd_Cl(Å)_{weighted_term}'].mean()\n",
    "crest_features[f'distance_av_Pd_P(Å)_{weighted_term}'] = crest_features[[f'distance_Pd_P1(Å)_{weighted_term}', f'distance_Pd_P2(Å)_{weighted_term}']].mean(axis=1)\n",
    "cr_pd_p_boltz_av = crest_features[f'distance_av_Pd_P(Å)_{weighted_term}'].mean()\n",
    "cr_bite_angle = crest_features[f'Bite_angle_Pd(°)_{weighted_term}'].mean()\n",
    "\n",
    "# steric features\n",
    "cr_vbur_3a_boltz_av = crest_features[f'%Vbur_Pd_3Å_{weighted_term}'].mean()\n",
    "cr_vbur_4a_boltz_av = crest_features[f'%Vbur_Pd_4Å_{weighted_term}'].mean()\n",
    "cr_vbur_5a_boltz_av = crest_features[f'%Vbur_Pd_5Å_{weighted_term}'].mean()\n",
    "cr_vbur_6a_boltz_av = crest_features[f'%Vbur_Pd_6Å_{weighted_term}'].mean()\n",
    "cr_vbur_7a_boltz_av = crest_features[f'%Vbur_Pd_7Å_{weighted_term}'].mean()\n",
    "cr_volume_boltz_av = crest_features[f'volume(Bohr_radius³/mol)_{weighted_term}'].mean()\n",
    "cr_sasa_boltz_av = crest_features[f'SASA_Pd_surface_area(Å²)_{weighted_term}'].mean()\n",
    "cr_gparam_boltz_av = crest_features[f'%G_param_Pd_{weighted_term}'].mean()\n",
    "cr_solid_angle_boltz_av = crest_features[f'Solid_angle_Pd(sr)_{weighted_term}'].mean()\n",
    "cr_solid_cone_angle_boltz_av = crest_features[f'Solid_cone_angle_Pd(°)_{weighted_term}'].mean()"
   ]
  },
  {
   "cell_type": "markdown",
   "id": "acaf6c7f",
   "metadata": {},
   "source": [
    "## 2.2. Calculate percent and absolute differences between DFT refined and CREST feature sets"
   ]
  },
  {
   "cell_type": "code",
   "execution_count": null,
   "id": "5955c263-9abe-46fe-a83f-580c7ed27980",
   "metadata": {},
   "outputs": [],
   "source": [
    "# % differences\n",
    "\n",
    "homo_pc_diff = utils.percent_difference(homo_boltz_av, cr_homo_boltz_av)\n",
    "lumo_pc_diff = utils.percent_difference(lumo_boltz_av, cr_lumo_boltz_av)\n",
    "dipole_pc_diff = utils.percent_difference(dipole_boltz_av, cr_dipole_boltz_av)\n",
    "cl_nbo_pc_diff = utils.percent_difference(cl_nbo_boltz_av, cr_cl_nbo_boltz_av)\n",
    "p_nbo_pc_diff = utils.percent_difference(p_nbo_boltz_av, cr_p_nbo_boltz_av)\n",
    "pd_nbo_pc_diff = utils.percent_difference(pd_nbo_boltz_av, cr_pd_nbo_boltz_av)\n",
    "p_nmr_pc_diff = utils.percent_difference(p_nmr_boltz_av, cr_p_nmr_boltz_av)\n",
    "aniso_p_nmr_pc_diff = utils.percent_difference(aniso_p_nmr_boltz_av, cr_aniso_p_nmr_boltz_av)\n",
    "\n",
    "pd_cl_pc_diff = utils.percent_difference(pd_cl_boltz_av, cr_pd_cl_boltz_av)\n",
    "pd_p_pc_diff = utils.percent_difference(pd_p_boltz_av, cr_pd_p_boltz_av)\n",
    "bite_angle_pc_diff = utils.percent_difference(bite_angle, cr_bite_angle)\n",
    "\n",
    "vbur_3a_pc_diff = utils.percent_difference(vbur_3a_boltz_av, cr_vbur_3a_boltz_av)\n",
    "vbur_4a_pc_diff = utils.percent_difference(vbur_4a_boltz_av, cr_vbur_4a_boltz_av)\n",
    "vbur_5a_pc_diff = utils.percent_difference(vbur_5a_boltz_av, cr_vbur_5a_boltz_av)\n",
    "vbur_6a_pc_diff = utils.percent_difference(vbur_6a_boltz_av, cr_vbur_6a_boltz_av)\n",
    "vbur_7a_pc_diff = utils.percent_difference(vbur_7a_boltz_av, cr_vbur_7a_boltz_av)\n",
    "volume_pc_diff = utils.percent_difference(volume_boltz_av, cr_volume_boltz_av)\n",
    "sasa_pc_diff = utils.percent_difference(sasa_boltz_av, cr_sasa_boltz_av)\n",
    "gparam_pc_diff = utils.percent_difference(gparam_boltz_av, cr_gparam_boltz_av)\n",
    "solid_angle_pc_diff = utils.percent_difference(solid_angle_boltz_av, cr_solid_angle_boltz_av)\n",
    "solid_cone_angle_pc_diff = utils.percent_difference(solid_cone_angle_boltz_av, cr_solid_cone_angle_boltz_av)"
   ]
  },
  {
   "cell_type": "code",
   "execution_count": null,
   "id": "dca0cc97-4183-4cbc-a16d-4c6b2e3d25e3",
   "metadata": {},
   "outputs": [],
   "source": [
    "# absolute differences\n",
    "\n",
    "homo_diff = utils.difference(homo_boltz_av, cr_homo_boltz_av)\n",
    "lumo_diff = utils.difference(lumo_boltz_av, cr_lumo_boltz_av)\n",
    "dipole_diff = utils.difference(dipole_boltz_av, cr_dipole_boltz_av)\n",
    "cl_nbo_diff = utils.difference(cl_nbo_boltz_av, cr_cl_nbo_boltz_av)\n",
    "p_nbo_diff = utils.difference(p_nbo_boltz_av, cr_p_nbo_boltz_av)\n",
    "pd_nbo_diff = utils.difference(pd_nbo_boltz_av, cr_pd_nbo_boltz_av)\n",
    "p_nmr_diff = utils.difference(p_nmr_boltz_av, cr_p_nmr_boltz_av)\n",
    "aniso_p_nmr_diff = utils.difference(p_nmr_boltz_av, cr_p_nmr_boltz_av)\n",
    "\n",
    "pd_cl_diff = utils.difference(pd_cl_boltz_av, cr_pd_cl_boltz_av)\n",
    "pd_p_diff = utils.difference(pd_p_boltz_av, cr_pd_p_boltz_av)\n",
    "bite_angle_diff = utils.difference(bite_angle, cr_bite_angle)\n",
    "\n",
    "vbur_3a_diff = utils.difference(vbur_3a_boltz_av, cr_vbur_3a_boltz_av)\n",
    "vbur_4a_diff = utils.difference(vbur_4a_boltz_av, cr_vbur_4a_boltz_av)\n",
    "vbur_5a_diff = utils.difference(vbur_5a_boltz_av, cr_vbur_5a_boltz_av)\n",
    "vbur_6a_diff = utils.difference(vbur_6a_boltz_av, cr_vbur_6a_boltz_av)\n",
    "vbur_7a_diff = utils.difference(vbur_7a_boltz_av, cr_vbur_7a_boltz_av)\n",
    "volume_diff = utils.difference(volume_boltz_av, cr_volume_boltz_av)\n",
    "sasa_diff = utils.difference(sasa_boltz_av, cr_sasa_boltz_av)\n",
    "gparam_diff = utils.difference(gparam_boltz_av, cr_gparam_boltz_av)\n",
    "solid_angle_diff = utils.difference(solid_angle_boltz_av, cr_solid_angle_boltz_av)\n",
    "solid_cone_angle_diff = utils.difference(solid_cone_angle_boltz_av, cr_solid_cone_angle_boltz_av)"
   ]
  },
  {
   "cell_type": "markdown",
   "id": "b12afd98",
   "metadata": {},
   "source": [
    "# 3. Plotting"
   ]
  },
  {
   "cell_type": "markdown",
   "id": "2dbf42da",
   "metadata": {},
   "source": [
    "## 3.1. Percentage and absolute value comparisons"
   ]
  },
  {
   "cell_type": "markdown",
   "id": "d43ad206",
   "metadata": {},
   "source": [
    "This section plots the absolute percent differences and absolute feature value differences as bar graphs."
   ]
  },
  {
   "cell_type": "markdown",
   "id": "16e4b6f2",
   "metadata": {},
   "source": [
    "### 3.1.1. Setup descriptors for plotting"
   ]
  },
  {
   "cell_type": "code",
   "execution_count": null,
   "id": "29dee5f3-f529-4b49-a6bf-ae188a9423a7",
   "metadata": {},
   "outputs": [],
   "source": [
    "# bar graph plot values\n",
    "\n",
    "electronic = ['HOMO', 'LUMO', 'Dipole', 'Cl NBO', 'P NBO', 'Pd NBO', 'P NMR', 'Aniso \\nP NMR']\n",
    "electronic_values = [homo_pc_diff, lumo_pc_diff, dipole_pc_diff, cl_nbo_pc_diff, p_nbo_pc_diff,\n",
    "                    pd_nbo_pc_diff, p_nmr_pc_diff, aniso_p_nmr_pc_diff]\n",
    "\n",
    "steric = ['Solid \\ncone angle', '%Vbur \\n($r=$3 Å)', '%Vbur \\n($r=$4 Å)', '%Vbur \\n($r=$5 Å)', '%Vbur \\n($r=$6 Å)', \n",
    "          '%Vbur \\n($r=$7 Å)', 'Volume', 'SASA', ]\n",
    "steric_values = [solid_cone_angle_pc_diff, vbur_3a_pc_diff, vbur_4a_pc_diff, vbur_5a_pc_diff, vbur_6a_pc_diff, \n",
    "                vbur_7a_pc_diff, volume_pc_diff, sasa_pc_diff, ]\n",
    "\n",
    "geometric = ['Pd–Cl \\ndistance', 'Pd–P \\ndistance', 'Bite \\nangle']\n",
    "geometric_values = [pd_cl_pc_diff, pd_p_pc_diff, bite_angle_pc_diff]\n",
    "\n",
    "fmos = ['HOMO', 'LUMO']\n",
    "fmo_values = [homo_diff, lumo_diff]\n",
    "\n",
    "nbos = ['Cl NBO', 'P NBO', 'Pd NBO']\n",
    "nbo_values = [cl_nbo_diff, p_nbo_diff, pd_nbo_diff]\n",
    "\n",
    "nmrs = ['P NMR', 'Aniso \\nP NMR']\n",
    "nmr_values = [p_nmr_diff, aniso_p_nmr_diff]\n",
    "\n",
    "distances = ['Pd–Cl \\ndistance', 'Pd–P \\ndistance']\n",
    "distance_values = [pd_cl_diff, pd_p_diff]\n",
    "\n",
    "bite = ['Bite \\nangle']\n",
    "bite_value = [bite_angle_diff]\n",
    "\n",
    "vburs = ['%VBur \\n($r=$3 Å)', '%Vbur \\n($r=$4 Å)', '%Vbur \\n($r=$5 Å)', '%Vbur \\n($r=$6 Å)', '%Vbur \\n($r=$7 Å)']\n",
    "vbur_values = [vbur_3a_diff, vbur_4a_diff, vbur_5a_diff, vbur_6a_diff, vbur_7a_diff]\n",
    "\n",
    "volumes = ['Volume', 'SASA']\n",
    "volume_values = [volume_diff, sasa_diff]\n",
    "\n",
    "solid_angles = ['%G parameter', 'Solid angle', 'Solid cone angle']\n",
    "solid_angle_values = [gparam_diff, solid_angle_diff, solid_cone_angle_diff]"
   ]
  },
  {
   "cell_type": "markdown",
   "id": "806ae680",
   "metadata": {},
   "source": [
    "### 3.1.2. Generate plots"
   ]
  },
  {
   "cell_type": "code",
   "execution_count": null,
   "id": "5e6b1e55",
   "metadata": {},
   "outputs": [],
   "source": [
    "save = True  # set as False if you do not want to save the generated plot\n",
    "\n",
    "fig, ((ax0, ax1, ax2), (ax3, ax4, ax5)) = plt.subplots(nrows=2, ncols=3, figsize=(20,15))\n",
    "\n",
    "# plot feature absolute percentage differences\n",
    "plot_features.feature_bars(electronic, electronic_values, ax=ax0,\n",
    "                           title='Electronic features',\n",
    "                           xlabel='Absolute average % difference')\n",
    "plot_features.feature_bars(steric, steric_values, ax=ax1,\n",
    "                           title='Steric features',\n",
    "                           xlabel='Absolute average % difference')\n",
    "plot_features.feature_bars(geometric, geometric_values, ax=ax2,\n",
    "                           title='Geometric features',\n",
    "                           xlabel='Absolute average % difference')\n",
    "\n",
    "# plot feature absolute differences\n",
    "plot_features.feature_bars(fmos, fmo_values, ax=ax3,\n",
    "                           title='Frontier molecular orbitals',\n",
    "                           xlabel='Absolute difference / Hartrees')\n",
    "plot_features.feature_bars(nbos, nbo_values, ax=ax4,\n",
    "                           title='Natural bond orbitals',\n",
    "                           xlabel='Absolute difference / e')\n",
    "plot_features.feature_bars(nmrs, nmr_values, ax=ax5,\n",
    "                           title='NMR chemical shifts',\n",
    "                           xlabel='Absolute difference / ppm')\n",
    "\n",
    "if save:\n",
    "    plt.tight_layout()\n",
    "    plt.savefig(f\"{weighted_term}_feature_bars.png\")"
   ]
  },
  {
   "cell_type": "markdown",
   "id": "59ee984f",
   "metadata": {},
   "source": [
    "## 3.2. Descriptor set colinearity"
   ]
  },
  {
   "cell_type": "markdown",
   "id": "49a53b22",
   "metadata": {},
   "source": [
    "This section examines the co-linearity between the two Sets of calculations by linear regression. Plots are separated into \"electronic\", \"steric\" and \"geometric\" features."
   ]
  },
  {
   "cell_type": "markdown",
   "id": "acdfc418",
   "metadata": {},
   "source": [
    "### 3.2.1. Setup descriptors to plot"
   ]
  },
  {
   "cell_type": "code",
   "execution_count": null,
   "id": "3b1aa413",
   "metadata": {},
   "outputs": [],
   "source": [
    "e_feature_list = [f'HOMO_{weighted_term}', f'LUMO_{weighted_term}', f'dipole(Debye)_{weighted_term}',\n",
    "                    f'NBO_av_charge_Cl_{weighted_term}', f'NBO_av_charge_P_{weighted_term}', f'NBO_charge_Pd_{weighted_term}', \n",
    "                     f'NMR_av_shift_P_{weighted_term}', f'aniso_NMR_av_shift_P_{weighted_term}']\n",
    "\n",
    "steric_feature_list = [f'Solid_cone_angle_Pd(°)_{weighted_term}', f'%Vbur_Pd_3Å_{weighted_term}', f'%Vbur_Pd_4Å_{weighted_term}', \n",
    "                         f'%Vbur_Pd_5Å_{weighted_term}', f'%Vbur_Pd_6Å_{weighted_term}',\n",
    "                         f'%Vbur_Pd_7Å_{weighted_term}', f'volume(Bohr_radius³/mol)_{weighted_term}',\n",
    "                         f'SASA_Pd_surface_area(Å²)_{weighted_term}']\n",
    "\n",
    "geometric_feature_list = [f'distance_av_Pd_Cl(Å)_{weighted_term}', f'distance_av_Pd_P(Å)_{weighted_term}', f'Bite_angle_Pd(°)_{weighted_term}']"
   ]
  },
  {
   "cell_type": "markdown",
   "id": "ea3d73d2",
   "metadata": {},
   "source": [
    "### 3.2.2. Plot electronic features"
   ]
  },
  {
   "cell_type": "code",
   "execution_count": null,
   "id": "806151f2-41e2-4948-b748-a16158a5ae65",
   "metadata": {},
   "outputs": [],
   "source": [
    "save = True  # set as False if you don't want to save the generated plots\n",
    "\n",
    "fig, axs = plt.subplots(nrows=4, ncols=2, figsize=(15,20))\n",
    "\n",
    "for i, ax in zip(e_feature_list, axs.ravel()[:len(e_feature_list)]):\n",
    "    plot_features.plot_regression(dft_opt_features[i], crest_features[i], ax=ax)\n",
    "    ax.set_xlabel(f\"{i}_DFT\")\n",
    "    ax.set_ylabel(f\"{i}_CREST\")\n",
    "\n",
    "if save:\n",
    "    plt.tight_layout()\n",
    "    plt.savefig(f\"{weighted_term}_electronic_features.png\")"
   ]
  },
  {
   "cell_type": "markdown",
   "id": "89ad43b0",
   "metadata": {},
   "source": [
    "### 3.2.3. Plot steric features"
   ]
  },
  {
   "cell_type": "code",
   "execution_count": null,
   "id": "c5c58bde-6fcb-47c4-980d-034ff3a6bf8f",
   "metadata": {},
   "outputs": [],
   "source": [
    "save = True  # set as False if you don't want to save the generated plots\n",
    "\n",
    "fig, axs = plt.subplots(nrows=4, ncols=2, figsize=(15,20))\n",
    "\n",
    "for i, ax in zip(steric_feature_list, axs.ravel()[:len(steric_feature_list)]):\n",
    "    plot_features.plot_regression(dft_opt_features[i], crest_features[i], ax=ax)\n",
    "    ax.set_xlabel(f\"{i}_DFT\")\n",
    "    ax.set_ylabel(f\"{i}_CREST\")\n",
    "\n",
    "if save:\n",
    "    plt.tight_layout()\n",
    "    plt.savefig(f\"{weighted_term}_steric_features.png\")"
   ]
  },
  {
   "cell_type": "markdown",
   "id": "9003bbef",
   "metadata": {},
   "source": [
    "### 3.2.3. Plot geometric features"
   ]
  },
  {
   "cell_type": "code",
   "execution_count": null,
   "id": "1f4ea175-ea9d-4751-92e8-526f549027d3",
   "metadata": {},
   "outputs": [],
   "source": [
    "save = True  # set as False if you don't want to save the generated plots\n",
    "\n",
    "fig, axs = plt.subplots(nrows=1, ncols=3, figsize=(19,5))\n",
    "\n",
    "for i, ax in zip(geometric_feature_list, axs.ravel()[:len(geometric_feature_list)]):\n",
    "    plot_features.plot_regression(dft_opt_features[i], crest_features[i], ax=ax)\n",
    "    ax.set_xlabel(f\"{i}_DFT\")\n",
    "    ax.set_ylabel(f\"{i}_CREST\")\n",
    "\n",
    "if save:\n",
    "    plt.tight_layout()\n",
    "    plt.savefig(f\"{weighted_term}_geometric_features.png\")"
   ]
  },
  {
   "cell_type": "code",
   "execution_count": null,
   "id": "09e76d1e",
   "metadata": {},
   "outputs": [],
   "source": []
  }
 ],
 "metadata": {
  "kernelspec": {
   "display_name": "Python 3 (ipykernel)",
   "language": "python",
   "name": "python3"
  },
  "language_info": {
   "codemirror_mode": {
    "name": "ipython",
    "version": 3
   },
   "file_extension": ".py",
   "mimetype": "text/x-python",
   "name": "python",
   "nbconvert_exporter": "python",
   "pygments_lexer": "ipython3",
   "version": "3.11.7"
  },
  "toc": {
   "base_numbering": 1,
   "nav_menu": {},
   "number_sections": true,
   "sideBar": true,
   "skip_h1_title": false,
   "title_cell": "Table of Contents",
   "title_sidebar": "Contents",
   "toc_cell": false,
   "toc_position": {},
   "toc_section_display": true,
   "toc_window_display": false
  }
 },
 "nbformat": 4,
 "nbformat_minor": 5
}
