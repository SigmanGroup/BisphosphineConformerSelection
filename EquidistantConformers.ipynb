{
 "cells": [
  {
   "cell_type": "markdown",
   "id": "bf5da0d6",
   "metadata": {},
   "source": [
    "# **Get equidistant conformers**"
   ]
  },
  {
   "cell_type": "markdown",
   "id": "c6d1803f-ff95-4e6d-aef8-36cc4e15efed",
   "metadata": {},
   "source": [
    "## 0. Imports and add functions"
   ]
  },
  {
   "cell_type": "code",
   "execution_count": 1,
   "id": "d407d100-db2e-43e1-90f1-7e658e3511e5",
   "metadata": {},
   "outputs": [
    {
     "name": "stderr",
     "output_type": "stream",
     "text": [
      "/var/folders/q_/pxh8rpm1021bvcmqb5qg17p00000gn/T/ipykernel_71016/775336684.py:2: DeprecationWarning: \n",
      "Pyarrow will become a required dependency of pandas in the next major release of pandas (pandas 3.0),\n",
      "(to allow more performant data types, such as the Arrow string type, and better interoperability with other libraries)\n",
      "but was not found to be installed on your system.\n",
      "If this would cause problems for you,\n",
      "please provide us feedback at https://github.com/pandas-dev/pandas/issues/54466\n",
      "        \n",
      "  import pandas as pd\n"
     ]
    }
   ],
   "source": [
    "import numpy as np\n",
    "import pandas as pd\n",
    "import warnings\n",
    "warnings.filterwarnings(\"ignore\")\n",
    "\n",
    "from pathlib import Path\n",
    "from functions import utils, get_features\n",
    "\n",
    "from functions.plotting import plot_conformers\n",
    "\n",
    "from tqdm.notebook import tqdm\n",
    "\n",
    "import matplotlib.pyplot as plt\n",
    "%matplotlib inline"
   ]
  },
  {
   "cell_type": "markdown",
   "id": "b7eb4225",
   "metadata": {},
   "source": [
    "Define default plotting parameters."
   ]
  },
  {
   "cell_type": "code",
   "execution_count": 2,
   "id": "d4844a3c",
   "metadata": {},
   "outputs": [],
   "source": [
    "# this sets plot style defaults for the whole notebook\n",
    "\n",
    "paramsscreen = {'backend': 'ps',\n",
    "            'axes.labelsize': 15,\n",
    "           'legend.fontsize': 15,\n",
    "           'xtick.labelsize': 13,\n",
    "           'ytick.labelsize': 13,\n",
    "           'axes.titlesize': 16}\n",
    "\n",
    "plt.rcParams.update(paramsscreen)"
   ]
  },
  {
   "cell_type": "markdown",
   "id": "5029e872",
   "metadata": {},
   "source": [
    "## 1. Define paths and ligand IDs"
   ]
  },
  {
   "cell_type": "markdown",
   "id": "681dce23",
   "metadata": {},
   "source": [
    "This sets paths to the clustered conformer ensemble with a 5 kcal/mol energy window (`conformers_path`), path where feature values for each ligand are to be stored (`features_path`) and the path containing the DFT-level features (`dft_features_path`). A list of ligands to analyze is also defined. You shouldn't need to change any of this cell."
   ]
  },
  {
   "cell_type": "code",
   "execution_count": 2,
   "id": "38f1d79a",
   "metadata": {},
   "outputs": [],
   "source": [
    "conformers_path = Path(\"./calculation_files/crest/5kcal_clustered\")\n",
    "features_path = Path(\"./feature_files/individual_ligands\")\n",
    "dft_features_path = Path(\"./feature_files/dft_opt_sp_features.csv\")\n",
    "\n",
    "xyz_files = []\n",
    "for path in conformers_path.glob(\"*.xyz\"):\n",
    "    xyz_files.append(path)\n",
    "\n",
    "ligands = [\"pp000067\", \"pp000085\", \"pp000091\", \"pp000110\", \"pp000135\", \"pp000298\",\n",
    "           \"pp000321\", \"pp000390\", \"pp000425\", \"pp000458\", \"pp000550\", \"pp000670\"]"
   ]
  },
  {
   "cell_type": "markdown",
   "id": "e20921c4-f89a-4544-868d-91b254236362",
   "metadata": {},
   "source": [
    "## 2. Collect GFN2-xTB energies and descriptors for each ligand set"
   ]
  },
  {
   "cell_type": "markdown",
   "id": "bd087261",
   "metadata": {},
   "source": [
    "Generates a .csv file for each ligand in the unique IDs list generated above containing:\n",
    "- ligand and conformer number\n",
    "- GFN2-xTB energy (extracted from the 2nd line in the .xyz coordinate file)\n",
    "- bite angle\n",
    "- buried volume at 3.5 Å\n",
    "- three descriptors from a solid angle calculation (solid angle, solid cone angle, G-parameter) - only solid cone angle is used later\n",
    "\n",
    "All descriptors are calculated using the _MORFEUS_ Python package.\n",
    "\n",
    "**Once all descriptors are collected, this does not need to be run again**"
   ]
  },
  {
   "cell_type": "code",
   "execution_count": null,
   "id": "74832014",
   "metadata": {},
   "outputs": [],
   "source": [
    "for ligand in ligands:\n",
    "\n",
    "    # generates lists of the conformer paths and file names\n",
    "    conformers = []\n",
    "    conformer_names = []\n",
    "    for xyz_file in xyz_files:\n",
    "        if ligand in xyz_file.name:\n",
    "            conformers.append(xyz_file)\n",
    "            conformer_names.append(xyz_file.name)\n",
    "\n",
    "    expected_jobs = len(conformers)\n",
    "\n",
    "    # generates a list of the xTB energies from the .xyz files (2nd line of the file)\n",
    "    energies = []\n",
    "    for conformer in tqdm(conformers, total=expected_jobs, desc=f\"Collecting energies for {ligand}\"):\n",
    "        energy = utils.get_xtb_energy(conformer)\n",
    "        energies.append(energy)\n",
    "\n",
    "    # generates a list of calculated bite angles using MORFEUS\n",
    "    bite_angles = []\n",
    "    for conformer in tqdm(conformers, total=expected_jobs, desc=f\"Collecting bite angles for {ligand}\"):\n",
    "        bite_angle = get_features.get_bite_angle(conformer)\n",
    "        bite_angles.append(bite_angle)\n",
    "\n",
    "    # generates a list of calculated buried volumes at 3.5 Å using MORFEUS\n",
    "    buried_volumes = []\n",
    "    for conformer in tqdm(conformers, total=expected_jobs, desc=f\"Collecting buried volumes for {ligand}\"):\n",
    "        buried_volume = get_features.get_buried_volume(conformer)\n",
    "        buried_volumes.append(buried_volume)\n",
    "\n",
    "    # generates a series of lists based on calculated Solid Angles using MORFEUS\n",
    "    solid_angles = []\n",
    "    solid_cone_angles = []\n",
    "    g_parameters = []\n",
    "    for conformer in tqdm(conformers, total=expected_jobs, desc=f\"Collecting solid angles for {ligand}\"):\n",
    "        solid_angle, solid_cone_angle, g_param = get_features.get_solid_angle(conformer)\n",
    "        solid_angles.append(solid_angle)\n",
    "        solid_cone_angles.append(solid_cone_angle)\n",
    "        g_parameters.append(g_param)\n",
    "\n",
    "    # converts above lists into a dictionary and generates a CSV file with descriptors for each ligand\n",
    "    ligand_dict = {'ligand': conformer_names, 'xtb_energy': energies, 'bite_angle': bite_angles,\n",
    "        'buried_volume': buried_volumes, 'solid_angle': solid_angles, 'solid_cone_angle': solid_cone_angles,\n",
    "        'g_parameter': g_parameters}\n",
    "    ligand_df = pd.DataFrame(ligand_dict)\n",
    "    ligand_df['bite_angle_buried_volume'] = ligand_df['bite_angle'] * ligand_df['buried_volume']\n",
    "    ligand_df['bite_angle_cone_angle'] = ligand_df['bite_angle'] * ligand_df['solid_cone_angle']\n",
    "    ligand_df.to_csv(features_path / f\"{ligand}.csv\")\n",
    "\n",
    "    print(f\"Feature collection completed for {ligand}\")\n"
   ]
  },
  {
   "cell_type": "markdown",
   "id": "da612696-cc63-4a9e-954b-d1292c8a8a94",
   "metadata": {},
   "source": [
    "## 3. Select equidistant conformers\n",
    "### 3.1. Setup selection/plotting"
   ]
  },
  {
   "cell_type": "markdown",
   "id": "86288013",
   "metadata": {},
   "source": [
    "Define variables to determine how conformers are selected and how the results are plotted:\n",
    "- `ligand_to_analyze`: is the ID for the ligand to analyze (this must be in the list of unique IDs generated in Section 1)\n",
    "- `df`: is the dataframe which loads the energies and descriptors from the .csv file generated in Section 2\n",
    "- `descriptors`: is a list of descriptors used to analyze/select conformers - *do not make this longer than 3 descriptors*"
   ]
  },
  {
   "cell_type": "code",
   "execution_count": 3,
   "id": "68f23674-8754-4ef5-9c3c-589be46993bb",
   "metadata": {},
   "outputs": [],
   "source": [
    "ligand_to_analyze = 'pp000550'\n",
    "\n",
    "df = pd.read_csv(features_path / f\"{ligand_to_analyze}.csv\")\n",
    "features = ['bite_angle', 'solid_cone_angle', 'bite_angle_buried_volume']"
   ]
  },
  {
   "cell_type": "markdown",
   "id": "a73a1fb7",
   "metadata": {},
   "source": [
    "### 3.2. Plotting"
   ]
  },
  {
   "cell_type": "markdown",
   "id": "95c0ec8f",
   "metadata": {},
   "source": [
    "#### 3.2.1. Equidistant selection based on feature values"
   ]
  },
  {
   "cell_type": "markdown",
   "id": "681d04d7",
   "metadata": {},
   "source": [
    "Change the arguments in the below function to change how the selection is plotted:\n",
    "- `write_text_file`: set this to `True` if you would like a .txt file containing the conformers selected to be generated (this also gets printed in the notebook) - this is necessary for running Section 4.\n",
    "- `savefig`: set this to `True` if you would like to save the plot as a PNG file.\n",
    "\n",
    "The default number of conformers to be selected is **10**. This can be changed by adding the `sele_num=##` to the plotting function, where `##` is the number of conformers to be selected (integer)"
   ]
  },
  {
   "cell_type": "code",
   "execution_count": null,
   "id": "b23a71ea",
   "metadata": {},
   "outputs": [],
   "source": [
    "plot_conformers.plot_equidistant_feature_selections(df, ligand_id=ligand_to_analyze, features=features, \n",
    "                                                text_file_path=features_path, write_text_file=True, savefig=True)"
   ]
  },
  {
   "cell_type": "markdown",
   "id": "01a6b595",
   "metadata": {},
   "source": [
    "#### 3.2.2. Equidistant selection based on GFN2-xTB energy"
   ]
  },
  {
   "cell_type": "markdown",
   "id": "e1c51b5e",
   "metadata": {},
   "source": [
    "Arguments in this function are exactly the same as the selection based on feature values"
   ]
  },
  {
   "cell_type": "code",
   "execution_count": null,
   "id": "85ad5ccd",
   "metadata": {},
   "outputs": [],
   "source": [
    "plot_conformers.plot_equidistant_energy_selections(df, ligand_id=ligand_to_analyze, features=features, \n",
    "                                                text_file_path=features_path, write_text_file=True, savefig=True)"
   ]
  },
  {
   "cell_type": "markdown",
   "id": "d5428397-c7eb-4163-a8b0-b659be31c9b9",
   "metadata": {},
   "source": [
    "## 4. Plot selected conformers on DFT descriptor distributions"
   ]
  },
  {
   "cell_type": "markdown",
   "id": "bf850dea",
   "metadata": {},
   "source": [
    "### 4.1. Generate lists of selected conformers"
   ]
  },
  {
   "cell_type": "markdown",
   "id": "86368a44",
   "metadata": {},
   "source": [
    "This section uses the .txt files generated in Section 3 which contain all the selected conformers based on energy and feature values. The variable `ligand_to_analyze` is used here to select the conformer to analyze, which is defined in Section 3. The default number of selected conformers is **10**, this can be changed by adding the adding the `sele_num=##` argument to the read txt file function"
   ]
  },
  {
   "cell_type": "code",
   "execution_count": null,
   "id": "0fa6c602",
   "metadata": {},
   "outputs": [],
   "source": [
    "ligand_to_analyze = 'pp000550'\n",
    "\n",
    "energy_txt_files = []\n",
    "for path in features_path.glob(\"*energy*.txt\"):\n",
    "    energy_txt_files.append(path.name)\n",
    "\n",
    "steric_txt_files = []\n",
    "for path in features_path.glob(\"*steric*.txt\"):\n",
    "    steric_txt_files.append(path.name)\n",
    "\n",
    "energy_selection_file = [filename for filename in energy_txt_files if ligand_to_analyze in filename][0]\n",
    "steric_selection_file = [filename for filename in steric_txt_files if ligand_to_analyze in filename][0]\n",
    "\n",
    "print(f\"For ENERGY selection using {energy_selection_file} for {ligand_to_analyze}\")\n",
    "print(f\"For STERIC selection using {steric_selection_file} for {ligand_to_analyze}\")"
   ]
  },
  {
   "cell_type": "code",
   "execution_count": null,
   "id": "ff5d2356",
   "metadata": {},
   "outputs": [],
   "source": [
    "energy_selections = utils.read_energy_selection_txt_file(features_path / energy_selection_file)\n",
    "bite_angle_selections, buried_volume_selections = utils.read_selection_txt_file(features_path / steric_selection_file)\n",
    "\n",
    "#TODO: this above function needs to be adapted to read the energy selection file as well - probably as a separate function\n",
    "\n",
    "print(f\"Conformers selected based on energy:\")\n",
    "print('\\n'.join(map(str, energy_selections)))\n",
    "print(\"Conformers selected based on bite angle:\")\n",
    "print('\\n'.join(map(str, bite_angle_selections)))\n",
    "print(f\"Conformers selected based on buried volume:\")\n",
    "print('\\n'.join(map(str, buried_volume_selections)))"
   ]
  },
  {
   "cell_type": "markdown",
   "id": "f4e87a00",
   "metadata": {},
   "source": [
    "### 4.2. Set analysis criterion"
   ]
  },
  {
   "cell_type": "markdown",
   "id": "1ecc5d10",
   "metadata": {},
   "source": [
    "Set criteria here for the selection feature to examine and the DFT-derived descriptor histograms to plot"
   ]
  },
  {
   "cell_type": "code",
   "execution_count": null,
   "id": "add74896",
   "metadata": {},
   "outputs": [],
   "source": [
    "selection_criterion = 'buried_volume'\n",
    "\n",
    "dft_descriptors = ['HOMO', 'LUMO', 'NBO_charge_Cl_av', 'NBO_charge_P_av', 'NBO_charge_Pd', 'NMR_shift_P_av', 'aniso_NMR_shift_P_av',\n",
    "                  'distance_Pd_Cl(Å)_av', 'distance_Pd_P(Å)_av', '%Vbur_Pd_3Å', '%Vbur_Pd_4Å', '%Vbur_Pd_5Å', '%Vbur_Pd_6Å', '%Vbur_Pd_7Å',\n",
    "                  'Bite_angle_Pd(°)', 'volume(Bohr_radius³/mol)', 'SASA_Pd_surface_area(Å²)', 'Solid_cone_angle_Pd(°)']"
   ]
  },
  {
   "cell_type": "markdown",
   "id": "e10617a1",
   "metadata": {},
   "source": [
    "### 4.3. Read in DFT features"
   ]
  },
  {
   "cell_type": "markdown",
   "id": "9cef2970",
   "metadata": {},
   "source": [
    "Read in DFT features .csv file and average phosphorus features"
   ]
  },
  {
   "cell_type": "code",
   "execution_count": null,
   "id": "3c4e8bf3",
   "metadata": {},
   "outputs": [],
   "source": [
    "# open dft features CSV file\n",
    "dft_features_df = pd.read_csv(dft_features_path)\n",
    "\n",
    "# get average features\n",
    "dft_features_df['NBO_charge_Cl_av'] = dft_features_df[['NBO_charge_Cl1', 'NBO_charge_Cl2']].mean(axis=1)\n",
    "dft_features_df['NBO_charge_P_av'] = dft_features_df[['NBO_charge_P1', 'NBO_charge_P2']].mean(axis=1)\n",
    "dft_features_df['NMR_shift_P_av'] = dft_features_df[['NMR_shift_P1', 'NMR_shift_P2']].mean(axis=1)\n",
    "dft_features_df['aniso_NMR_shift_P_av'] = dft_features_df[['aniso_NMR_shift_P1', 'aniso_NMR_shift_P2']].mean(axis=1)\n",
    "dft_features_df['distance_Pd_Cl(Å)_av'] = dft_features_df[['distance_Pd_Cl1(Å)', 'distance_Pd_Cl2(Å)']].mean(axis=1)\n",
    "dft_features_df['distance_Pd_P(Å)_av'] = dft_features_df[['distance_Pd_P1(Å)', 'distance_Pd_P2(Å)']].mean(axis=1)"
   ]
  },
  {
   "cell_type": "markdown",
   "id": "56bc3490",
   "metadata": {},
   "source": [
    "### 4.4. Filter DFT features based on analysis criteria"
   ]
  },
  {
   "cell_type": "code",
   "execution_count": null,
   "id": "5ced1f5f",
   "metadata": {},
   "outputs": [],
   "source": [
    "selected_log_names = []\n",
    "\n",
    "if selection_criterion == \"energy\":\n",
    "    for i in energy_selections:\n",
    "        log = f\"{i.split('.')[0]}_SPE\"\n",
    "        selected_log_names.append(log)\n",
    "elif selection_criterion == \"bite_angle\":\n",
    "    for i in bite_angle_selections:\n",
    "        log = f\"{i.split('.')[0]}_SPE\"\n",
    "        selected_log_names.append(log)\n",
    "elif selection_criterion == \"buried_volume\":\n",
    "    for i in buried_volume_selections:\n",
    "        log = f\"{i.split('.')[0]}_SPE\"\n",
    "        selected_log_names.append(log)\n",
    "\n",
    "all_dft_features = dft_features_df[dft_features_df['log_name'].str.contains(ligand_to_analyze)]\n",
    "selected_dft_features = dft_features_df.loc[dft_features_df['log_name'].isin(selected_log_names)]"
   ]
  },
  {
   "cell_type": "markdown",
   "id": "0c4e7e54",
   "metadata": {},
   "source": [
    "### 4.5. Plot DFT distributions"
   ]
  },
  {
   "cell_type": "code",
   "execution_count": null,
   "id": "489e3f73",
   "metadata": {},
   "outputs": [],
   "source": [
    "plot_conformers.plot_dft_distributions(all_dft_features,  # dataframe with all dft features\n",
    "                                       selected_dft_features,  # dataframe with selected dft features\n",
    "                                       ligand_to_analyze, # ligand id\n",
    "                                       dft_descriptors, # list of dft descriptors to analyze\n",
    "                                       savefig=True,  # save figure as .png\n",
    "                                       )"
   ]
  }
 ],
 "metadata": {
  "kernelspec": {
   "display_name": "bisphos_conf_sel",
   "language": "python",
   "name": "python3"
  },
  "language_info": {
   "codemirror_mode": {
    "name": "ipython",
    "version": 3
   },
   "file_extension": ".py",
   "mimetype": "text/x-python",
   "name": "python",
   "nbconvert_exporter": "python",
   "pygments_lexer": "ipython3",
   "version": "3.11.7"
  }
 },
 "nbformat": 4,
 "nbformat_minor": 5
}
