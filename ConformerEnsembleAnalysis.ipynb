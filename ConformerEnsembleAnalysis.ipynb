{
 "cells": [
  {
   "cell_type": "markdown",
   "metadata": {},
   "source": [
    "# Imports and plotting format"
   ]
  },
  {
   "cell_type": "code",
   "execution_count": 1,
   "metadata": {},
   "outputs": [
    {
     "name": "stderr",
     "output_type": "stream",
     "text": [
      "/var/folders/q_/pxh8rpm1021bvcmqb5qg17p00000gn/T/ipykernel_32698/306558586.py:6: DeprecationWarning: \n",
      "Pyarrow will become a required dependency of pandas in the next major release of pandas (pandas 3.0),\n",
      "(to allow more performant data types, such as the Arrow string type, and better interoperability with other libraries)\n",
      "but was not found to be installed on your system.\n",
      "If this would cause problems for you,\n",
      "please provide us feedback at https://github.com/pandas-dev/pandas/issues/54466\n",
      "        \n",
      "  import pandas as pd\n"
     ]
    }
   ],
   "source": [
    "import os\n",
    "from pathlib import Path\n",
    "import matplotlib.pyplot as plt\n",
    "%matplotlib inline\n",
    "import numpy as np\n",
    "import pandas as pd\n",
    "\n",
    "from tqdm.notebook import tqdm\n",
    "\n",
    "from functions import conformers, features\n",
    "\n",
    "from functions.plotting import plot_conformers\n",
    "\n",
    "import warnings\n",
    "warnings.filterwarnings(\"ignore\")"
   ]
  },
  {
   "cell_type": "code",
   "execution_count": 2,
   "metadata": {},
   "outputs": [],
   "source": [
    "paramsscreen = {'backend': 'ps',\n",
    "            'axes.labelsize': 15,\n",
    "           'legend.fontsize': 15,\n",
    "           'xtick.labelsize': 13,\n",
    "           'ytick.labelsize': 13,\n",
    "           'axes.titlesize': 16}\n",
    "\n",
    "plt.rcParams.update(paramsscreen)"
   ]
  },
  {
   "cell_type": "markdown",
   "metadata": {},
   "source": [
    "# Define paths and ligand IDs"
   ]
  },
  {
   "cell_type": "code",
   "execution_count": 3,
   "metadata": {},
   "outputs": [],
   "source": [
    "full_5kcal = Path(\"./calculation_files/crest/5kcal_full\")\n",
    "clustered_5kcal = Path(\"./calculation_files/crest/5kcal_clustered\")\n",
    "full_10kcal = Path(\"./calculation_files/crest/10kcal_full\")\n",
    "clustered_10kcal = Path(\"./calculation_files/crest/10kcal_clustered\")"
   ]
  },
  {
   "cell_type": "code",
   "execution_count": 4,
   "metadata": {},
   "outputs": [],
   "source": [
    "ligands = [\"pp000067\", \"pp000085\", \"pp000091\", \"pp000110\", \"pp000133\", \"pp000135\",\n",
    "           \"pp000298\", \"pp000321\", \"pp000390\", \"pp000425\", \"pp000458\", \"pp000670\"]"
   ]
  },
  {
   "cell_type": "markdown",
   "metadata": {},
   "source": [
    "# Plot bar graphs of ensemble sizes"
   ]
  },
  {
   "cell_type": "markdown",
   "metadata": {},
   "source": [
    "## Get lists of numbers of conformers by ligand id"
   ]
  },
  {
   "cell_type": "code",
   "execution_count": null,
   "metadata": {},
   "outputs": [],
   "source": [
    "# 5 kcal/mol full ensemble\n",
    "full_5kcal_no_conformers = []\n",
    "for ligand in ligands:\n",
    "    no_conformers = conformers.count_conformer_number(full_5kcal, ligand)\n",
    "    full_5kcal_no_conformers.append(no_conformers)\n",
    "\n",
    "# 5 kcal/mol clustered ensemble\n",
    "clustered_5kcal_no_conformers = []\n",
    "for ligand in ligands:\n",
    "    no_conformers = conformers.count_conformer_number(clustered_5kcal, ligand)\n",
    "    clustered_5kcal_no_conformers.append(no_conformers)\n",
    "\n",
    "# 10 kcal/mol full ensemble\n",
    "full_10kcal_no_conformers = []\n",
    "for ligand in ligands:\n",
    "    no_conformers = conformers.count_conformer_number(full_10kcal, ligand)\n",
    "    full_10kcal_no_conformers.append(no_conformers)\n",
    "\n",
    "# 10 kcal/mol clustered ensemble\n",
    "clustered_10kcal_no_conformers = []\n",
    "for ligand in ligands:\n",
    "    no_conformers = conformers.count_conformer_number(clustered_10kcal, ligand)\n",
    "    clustered_10kcal_no_conformers.append(no_conformers)"
   ]
  },
  {
   "cell_type": "markdown",
   "metadata": {},
   "source": [
    "## Setup plotting dictionary"
   ]
  },
  {
   "cell_type": "code",
   "execution_count": null,
   "metadata": {},
   "outputs": [],
   "source": [
    "# comment out the following lines to exclude from plotting\n",
    "\n",
    "plotting_dictionary = {\"5kcal_full\": full_5kcal_no_conformers,\n",
    "                          \"5kcal_clustered\": clustered_5kcal_no_conformers,\n",
    "                          \"10kcal_full\": full_10kcal_no_conformers,\n",
    "                          \"10kcal_clustered\": clustered_10kcal_no_conformers,\n",
    "                        }"
   ]
  },
  {
   "cell_type": "markdown",
   "metadata": {},
   "source": [
    "## Plot conformer bar graph"
   ]
  },
  {
   "cell_type": "code",
   "execution_count": null,
   "metadata": {},
   "outputs": [],
   "source": [
    "plot_conformers.bar_graph(ligands, plotting_dictionary)  # add save=True to save the figure\n",
    "\n",
    "# determine the average number of conformers in each of the above lists\n",
    "print(\"Average number of conformers in 5 kcal/mol full ensemble: \", np.average(full_5kcal_no_conformers))\n",
    "print(\"Average number of conformers in 5 kcal/mol clustered ensemble: \", np.average(clustered_5kcal_no_conformers))\n",
    "print(\"Average number of conformers in 10 kcal/mol full ensemble: \", np.average(full_10kcal_no_conformers))\n",
    "print(\"Average number of conformers in 10 kcal/mol clustered ensemble: \", np.average(clustered_10kcal_no_conformers))"
   ]
  },
  {
   "cell_type": "markdown",
   "metadata": {},
   "source": [
    "# Ensemble RMSD analysis"
   ]
  },
  {
   "cell_type": "code",
   "execution_count": null,
   "metadata": {},
   "outputs": [],
   "source": [
    "# define paths where files for the 1 file per ligand are stored\n",
    "\n",
    "full_5kcal_1file = Path(\"./calculation_files/crest/5kcal_full_1file\")\n",
    "clustered_5kcal_1file = Path(\"./calculation_files/crest/5kcal_clustered_1file\")\n",
    "full_10kcal_1file = Path(\"./calculation_files/crest/10kcal_full_1file\")\n",
    "clustered_10kcal_1file = Path(\"./calculation_files/crest/10kcal_clustered_1file\")"
   ]
  },
  {
   "cell_type": "code",
   "execution_count": null,
   "metadata": {},
   "outputs": [],
   "source": [
    "# change set 1 and set 2 to the desired paths to compare different ensembles\n",
    "# set save=True to save the figure\n",
    "\n",
    "plot_conformers.rmsd_analysis(ligands, set1=full_5kcal_1file, set2=full_10kcal_1file)"
   ]
  },
  {
   "cell_type": "markdown",
   "metadata": {},
   "source": [
    "# Collect features"
   ]
  },
  {
   "cell_type": "code",
   "execution_count": null,
   "metadata": {},
   "outputs": [],
   "source": [
    "# define path for feature CSV files\n",
    "\n",
    "features_path = Path(\"./feature_files\")"
   ]
  },
  {
   "cell_type": "code",
   "execution_count": 13,
   "metadata": {},
   "outputs": [
    {
     "data": {
      "application/vnd.jupyter.widget-view+json": {
       "model_id": "798b7a1dde384149a7062e74b4ddda23",
       "version_major": 2,
       "version_minor": 0
      },
      "text/plain": [
       "  0%|          | 0/1394 [00:00<?, ?it/s]"
      ]
     },
     "metadata": {},
     "output_type": "display_data"
    },
    {
     "data": {
      "text/html": [
       "<div>\n",
       "<style scoped>\n",
       "    .dataframe tbody tr th:only-of-type {\n",
       "        vertical-align: middle;\n",
       "    }\n",
       "\n",
       "    .dataframe tbody tr th {\n",
       "        vertical-align: top;\n",
       "    }\n",
       "\n",
       "    .dataframe thead th {\n",
       "        text-align: right;\n",
       "    }\n",
       "</style>\n",
       "<table border=\"1\" class=\"dataframe\">\n",
       "  <thead>\n",
       "    <tr style=\"text-align: right;\">\n",
       "      <th></th>\n",
       "      <th>file</th>\n",
       "      <th>bite_angle</th>\n",
       "      <th>buried_volume</th>\n",
       "      <th>solid_cone_angle</th>\n",
       "    </tr>\n",
       "  </thead>\n",
       "  <tbody>\n",
       "    <tr>\n",
       "      <th>0</th>\n",
       "      <td>pp000133-Pd_60</td>\n",
       "      <td>88.485498</td>\n",
       "      <td>59.609113</td>\n",
       "      <td>197.337792</td>\n",
       "    </tr>\n",
       "    <tr>\n",
       "      <th>1</th>\n",
       "      <td>pp000390-Pd_11</td>\n",
       "      <td>110.830230</td>\n",
       "      <td>60.592154</td>\n",
       "      <td>206.461290</td>\n",
       "    </tr>\n",
       "    <tr>\n",
       "      <th>2</th>\n",
       "      <td>pp000133-Pd_74</td>\n",
       "      <td>87.760359</td>\n",
       "      <td>59.224748</td>\n",
       "      <td>196.673913</td>\n",
       "    </tr>\n",
       "    <tr>\n",
       "      <th>3</th>\n",
       "      <td>pp000135-Pd_156</td>\n",
       "      <td>86.743288</td>\n",
       "      <td>54.654887</td>\n",
       "      <td>198.611887</td>\n",
       "    </tr>\n",
       "    <tr>\n",
       "      <th>4</th>\n",
       "      <td>pp000135-Pd_142</td>\n",
       "      <td>86.726350</td>\n",
       "      <td>54.202968</td>\n",
       "      <td>198.537965</td>\n",
       "    </tr>\n",
       "    <tr>\n",
       "      <th>...</th>\n",
       "      <td>...</td>\n",
       "      <td>...</td>\n",
       "      <td>...</td>\n",
       "      <td>...</td>\n",
       "    </tr>\n",
       "    <tr>\n",
       "      <th>1389</th>\n",
       "      <td>pp000390-Pd_34</td>\n",
       "      <td>108.513032</td>\n",
       "      <td>62.097582</td>\n",
       "      <td>206.067999</td>\n",
       "    </tr>\n",
       "    <tr>\n",
       "      <th>1390</th>\n",
       "      <td>pp000133-Pd_45</td>\n",
       "      <td>88.695446</td>\n",
       "      <td>59.321422</td>\n",
       "      <td>197.024222</td>\n",
       "    </tr>\n",
       "    <tr>\n",
       "      <th>1391</th>\n",
       "      <td>pp000135-Pd_167</td>\n",
       "      <td>86.338051</td>\n",
       "      <td>54.529678</td>\n",
       "      <td>197.928398</td>\n",
       "    </tr>\n",
       "    <tr>\n",
       "      <th>1392</th>\n",
       "      <td>pp000135-Pd_173</td>\n",
       "      <td>86.201272</td>\n",
       "      <td>57.932468</td>\n",
       "      <td>205.824690</td>\n",
       "    </tr>\n",
       "    <tr>\n",
       "      <th>1393</th>\n",
       "      <td>pp000133-Pd_79</td>\n",
       "      <td>87.885961</td>\n",
       "      <td>59.029072</td>\n",
       "      <td>196.323761</td>\n",
       "    </tr>\n",
       "  </tbody>\n",
       "</table>\n",
       "<p>1394 rows × 4 columns</p>\n",
       "</div>"
      ],
      "text/plain": [
       "                 file  bite_angle  buried_volume  solid_cone_angle\n",
       "0      pp000133-Pd_60   88.485498      59.609113        197.337792\n",
       "1      pp000390-Pd_11  110.830230      60.592154        206.461290\n",
       "2      pp000133-Pd_74   87.760359      59.224748        196.673913\n",
       "3     pp000135-Pd_156   86.743288      54.654887        198.611887\n",
       "4     pp000135-Pd_142   86.726350      54.202968        198.537965\n",
       "...               ...         ...            ...               ...\n",
       "1389   pp000390-Pd_34  108.513032      62.097582        206.067999\n",
       "1390   pp000133-Pd_45   88.695446      59.321422        197.024222\n",
       "1391  pp000135-Pd_167   86.338051      54.529678        197.928398\n",
       "1392  pp000135-Pd_173   86.201272      57.932468        205.824690\n",
       "1393   pp000133-Pd_79   87.885961      59.029072        196.323761\n",
       "\n",
       "[1394 rows x 4 columns]"
      ]
     },
     "execution_count": 13,
     "metadata": {},
     "output_type": "execute_result"
    }
   ],
   "source": [
    "# get features for the 5 kcal/mol full ensemble\n",
    "\n",
    "ensemble = full_5kcal\n",
    "\n",
    "prop_df = pd.DataFrame(columns = [\"file\", \"bite_angle\", \"buried_volume\", \"solid_angle\", \"equivalent_cone_angle\", \"G_param\"])\n",
    "\n",
    "expected_jobs = len(list(ensemble.iterdir()))\n",
    "\n",
    "for file in tqdm(ensemble.iterdir(), total=expected_jobs):\n",
    "    bite_angle = features.get_bite_angle(file)\n",
    "    buried_volume = features.get_buried_volume(file)\n",
    "    solid_angle, solid_cone_angle, g_param = features.get_solid_angle(file)\n",
    "\n",
    "    prop_df.loc[len(prop_df.index)] = [file.stem, bite_angle, buried_volume, solid_angle, solid_cone_angle, g_param]\n",
    "\n",
    "prop_df.display()\n",
    "prop_df.to_csv(features_path / f\"{ensemble}_ensemble_features.csv\")"
   ]
  },
  {
   "cell_type": "code",
   "execution_count": null,
   "metadata": {},
   "outputs": [],
   "source": []
  }
 ],
 "metadata": {
  "kernelspec": {
   "display_name": "bisphos_conf_sel",
   "language": "python",
   "name": "python3"
  },
  "language_info": {
   "codemirror_mode": {
    "name": "ipython",
    "version": 3
   },
   "file_extension": ".py",
   "mimetype": "text/x-python",
   "name": "python",
   "nbconvert_exporter": "python",
   "pygments_lexer": "ipython3",
   "version": "3.11.7"
  }
 },
 "nbformat": 4,
 "nbformat_minor": 2
}
